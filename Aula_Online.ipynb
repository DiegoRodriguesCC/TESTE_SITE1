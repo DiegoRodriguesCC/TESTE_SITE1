{
  "nbformat": 4,
  "nbformat_minor": 0,
  "metadata": {
    "colab": {
      "provenance": [],
      "authorship_tag": "ABX9TyPTwYHgyfOz1H+yfwhyCLnt",
      "include_colab_link": true
    },
    "kernelspec": {
      "name": "python3",
      "display_name": "Python 3"
    },
    "language_info": {
      "name": "python"
    }
  },
  "cells": [
    {
      "cell_type": "markdown",
      "metadata": {
        "id": "view-in-github",
        "colab_type": "text"
      },
      "source": [
        "<a href=\"https://colab.research.google.com/github/DiegoRodriguesCC/TESTE_SITE1/blob/main/Aula_Online.ipynb\" target=\"_parent\"><img src=\"https://colab.research.google.com/assets/colab-badge.svg\" alt=\"Open In Colab\"/></a>"
      ]
    },
    {
      "cell_type": "markdown",
      "source": [
        "1. Escreva um programa que peça ao usuário que insira uma mensagem e, em\n",
        "seguida, exiba a mensagem digitada pelo usuário."
      ],
      "metadata": {
        "id": "_8rz1N31Ekdp"
      }
    },
    {
      "cell_type": "code",
      "source": [
        "mensagem = input(\"Digite uma mensagem: \")\n",
        "print(\"voce digitou\",mensagem)"
      ],
      "metadata": {
        "colab": {
          "base_uri": "https://localhost:8080/"
        },
        "id": "m2t-uOfSEl7i",
        "outputId": "a504019a-462e-41a6-ac40-c001f41c71b4"
      },
      "execution_count": null,
      "outputs": [
        {
          "output_type": "stream",
          "name": "stdout",
          "text": [
            "Digite uma mensagem: ola mundo\n",
            "voce digitou ola mundo\n"
          ]
        }
      ]
    },
    {
      "cell_type": "markdown",
      "source": [
        "2.Escreva um programa que peça ao usuário para inserir três notas e calcule a\n",
        "média delas. Em seguida, imprima a média."
      ],
      "metadata": {
        "id": "fscXCwqCFnl9"
      }
    },
    {
      "cell_type": "code",
      "source": [
        "nota1= float(input(\"Digite a primeira nota: \"))\n",
        "nota2 = float(input(\"Digite a segunda nota: \"))\n",
        "nota3 = float(input(\"Digite a terceira nota: \"))\n",
        "\n",
        "media = (nota1 + nota2 + nota3) / 3\n",
        "\n",
        "print(\"A média das notas é \",media)\n"
      ],
      "metadata": {
        "colab": {
          "base_uri": "https://localhost:8080/"
        },
        "id": "lPxFSYLnFuoJ",
        "outputId": "bbc581b7-b911-4847-fad2-b44e1d2dc1de"
      },
      "execution_count": null,
      "outputs": [
        {
          "output_type": "stream",
          "name": "stdout",
          "text": [
            "Digite a primeira nota: 8\n",
            "Digite a segunda nota: 6\n",
            "Digite a terceira nota: 8\n",
            "A média das notas é  7.333333333333333\n"
          ]
        }
      ]
    },
    {
      "cell_type": "markdown",
      "source": [
        "3.Escreva um programa em que solicite ao usuário que insira um número de\n",
        "horas e, em seguida, converta esse valor para minutos."
      ],
      "metadata": {
        "id": "D91fT_MxH5Na"
      }
    },
    {
      "cell_type": "code",
      "source": [
        "horas = int(input(\"Digite o número de horas: \"))\n",
        "minutos = horas * 60\n",
        "print( minutos, \"minutos\")"
      ],
      "metadata": {
        "id": "LfcxGp16H8La",
        "colab": {
          "base_uri": "https://localhost:8080/"
        },
        "outputId": "f3f7f3ee-b105-428d-a998-85c519959819"
      },
      "execution_count": 8,
      "outputs": [
        {
          "output_type": "stream",
          "name": "stdout",
          "text": [
            "Digite o número de horas: 10\n",
            "600 minutos\n"
          ]
        }
      ]
    },
    {
      "cell_type": "markdown",
      "source": [
        " 4.Escreva um programa em que solicite ao usuário para inserir um número e,\n",
        "em seguida, calcule e exiba o dobro desse número."
      ],
      "metadata": {
        "id": "aS6c12jvK2Pg"
      }
    },
    {
      "cell_type": "code",
      "source": [
        "numero = float(input(\"Digite um numero: \"))\n",
        "dobro = numero * 2\n",
        "print(\"O dobro de\", numero,\"e\", dobro)"
      ],
      "metadata": {
        "colab": {
          "base_uri": "https://localhost:8080/"
        },
        "id": "kZ9eQPzaK5eY",
        "outputId": "eb8410f0-d699-4180-ce7e-4e9519b4e7c2"
      },
      "execution_count": 9,
      "outputs": [
        {
          "output_type": "stream",
          "name": "stdout",
          "text": [
            "Digite um numero: 5\n",
            "O dobro de 5.0 e 10.0\n"
          ]
        }
      ]
    }
  ]
}